{
 "cells": [
  {
   "cell_type": "markdown",
   "metadata": {},
   "source": [
    "# カテゴリ型"
   ]
  },
  {
   "cell_type": "code",
   "execution_count": 1,
   "metadata": {},
   "outputs": [],
   "source": [
    "import sys\n",
    "import numpy as np\n",
    "import pandas as pd\n",
    "\n",
    "sys.path.append(\"../src\")\n",
    "from data_loader import load_hotel_reserve, load_production, load_production_missing_category\n",
    "\n",
    "customer_tb, hotel_tb, reserve_tb = load_hotel_reserve()\n",
    "production = load_production()\n",
    "production_missc_tb = load_production_missing_category()\n"
   ]
  },
  {
   "cell_type": "markdown",
   "metadata": {},
   "source": [
    "## カテゴリ型への変換\n",
    "カテゴリ型にすることで文字列で持っているよりもデータサイズを小さくできる。  \n",
    "顧客テーブルの性別をブール型とカテゴリ型に変換する。"
   ]
  },
  {
   "cell_type": "markdown",
   "metadata": {},
   "source": [
    "`astype`関数に\"bool\", \"category\"を指定することでそれぞれに変換できる。"
   ]
  },
  {
   "cell_type": "code",
   "execution_count": 2,
   "metadata": {},
   "outputs": [
    {
     "name": "stdout",
     "output_type": "stream",
     "text": [
      "0      0\n",
      "1      0\n",
      "2      1\n",
      "3      0\n",
      "4      0\n",
      "      ..\n",
      "995    0\n",
      "996    0\n",
      "997    1\n",
      "998    1\n",
      "999    0\n",
      "Length: 1000, dtype: int8\n",
      "Index(['man', 'woman'], dtype='object')\n"
     ]
    }
   ],
   "source": [
    "# sexがmanのときにTRUEとするブール型を追加\n",
    "# このコードは、as.type関数を利用しなくてもブール型に変換\n",
    "customer_tb[['sex_is_man']] = (customer_tb[['sex']] == 'man').astype('bool')\n",
    "\n",
    "# sexをカテゴリ型に変換\n",
    "customer_tb['sex_c'] = \\\n",
    "  pd.Categorical(customer_tb['sex'], categories=['man', 'woman'])\n",
    "\n",
    "# astype関数でも変換可能\n",
    "# customer_tb['sex_c'] = customer_tb['sex_c'].astype('category')\n",
    "\n",
    "# インデックスデータはcodesに格納されている\n",
    "print(customer_tb['sex_c'].cat.codes)\n",
    "\n",
    "# マスタデータはcategoriesに格納されている\n",
    "print(customer_tb['sex_c'].cat.categories)"
   ]
  },
  {
   "cell_type": "code",
   "execution_count": 3,
   "metadata": {},
   "outputs": [
    {
     "data": {
      "text/html": [
       "<div>\n",
       "<style scoped>\n",
       "    .dataframe tbody tr th:only-of-type {\n",
       "        vertical-align: middle;\n",
       "    }\n",
       "\n",
       "    .dataframe tbody tr th {\n",
       "        vertical-align: top;\n",
       "    }\n",
       "\n",
       "    .dataframe thead th {\n",
       "        text-align: right;\n",
       "    }\n",
       "</style>\n",
       "<table border=\"1\" class=\"dataframe\">\n",
       "  <thead>\n",
       "    <tr style=\"text-align: right;\">\n",
       "      <th></th>\n",
       "      <th>customer_id</th>\n",
       "      <th>age</th>\n",
       "      <th>sex</th>\n",
       "      <th>home_latitude</th>\n",
       "      <th>home_longitude</th>\n",
       "      <th>sex_is_man</th>\n",
       "      <th>sex_c</th>\n",
       "    </tr>\n",
       "  </thead>\n",
       "  <tbody>\n",
       "    <tr>\n",
       "      <th>0</th>\n",
       "      <td>c_1</td>\n",
       "      <td>41</td>\n",
       "      <td>man</td>\n",
       "      <td>35.092193</td>\n",
       "      <td>136.512347</td>\n",
       "      <td>True</td>\n",
       "      <td>man</td>\n",
       "    </tr>\n",
       "    <tr>\n",
       "      <th>1</th>\n",
       "      <td>c_2</td>\n",
       "      <td>38</td>\n",
       "      <td>man</td>\n",
       "      <td>35.325076</td>\n",
       "      <td>139.410551</td>\n",
       "      <td>True</td>\n",
       "      <td>man</td>\n",
       "    </tr>\n",
       "    <tr>\n",
       "      <th>2</th>\n",
       "      <td>c_3</td>\n",
       "      <td>49</td>\n",
       "      <td>woman</td>\n",
       "      <td>35.120543</td>\n",
       "      <td>136.511179</td>\n",
       "      <td>False</td>\n",
       "      <td>woman</td>\n",
       "    </tr>\n",
       "    <tr>\n",
       "      <th>3</th>\n",
       "      <td>c_4</td>\n",
       "      <td>43</td>\n",
       "      <td>man</td>\n",
       "      <td>43.034868</td>\n",
       "      <td>141.240314</td>\n",
       "      <td>True</td>\n",
       "      <td>man</td>\n",
       "    </tr>\n",
       "    <tr>\n",
       "      <th>4</th>\n",
       "      <td>c_5</td>\n",
       "      <td>31</td>\n",
       "      <td>man</td>\n",
       "      <td>35.102661</td>\n",
       "      <td>136.523797</td>\n",
       "      <td>True</td>\n",
       "      <td>man</td>\n",
       "    </tr>\n",
       "  </tbody>\n",
       "</table>\n",
       "</div>"
      ],
      "text/plain": [
       "  customer_id  age    sex  home_latitude  home_longitude  sex_is_man  sex_c\n",
       "0         c_1   41    man      35.092193      136.512347        True    man\n",
       "1         c_2   38    man      35.325076      139.410551        True    man\n",
       "2         c_3   49  woman      35.120543      136.511179       False  woman\n",
       "3         c_4   43    man      43.034868      141.240314        True    man\n",
       "4         c_5   31    man      35.102661      136.523797        True    man"
      ]
     },
     "execution_count": 3,
     "metadata": {},
     "output_type": "execute_result"
    }
   ],
   "source": [
    "customer_tb.head()"
   ]
  },
  {
   "cell_type": "markdown",
   "metadata": {},
   "source": [
    "## ダミー変数化\n",
    "MLに用いられる一部のメソッドがカテゴリ型に対応していない場合があるため、カテゴリ値をフラグ集合値に変換する**ダミー変数化**が必要になる。"
   ]
  },
  {
   "cell_type": "markdown",
   "metadata": {},
   "source": [
    "顧客テーブルの性別をダミー変数化する。"
   ]
  },
  {
   "cell_type": "code",
   "execution_count": 4,
   "metadata": {},
   "outputs": [],
   "source": [
    "# ダミー変数化する前にカテゴリ型に変換\n",
    "customer_tb['sex'] = pd.Categorical(customer_tb['sex'])\n",
    "\n",
    "# get_dummies関数によってsexをダミー変数化\n",
    "# drop_firstをFalseにすると、カテゴリ値の全種類の値のダミーフラグを生成\n",
    "dummy_vars = pd.get_dummies(customer_tb['sex'], drop_first=False)"
   ]
  },
  {
   "cell_type": "code",
   "execution_count": 5,
   "metadata": {},
   "outputs": [
    {
     "data": {
      "text/html": [
       "<div>\n",
       "<style scoped>\n",
       "    .dataframe tbody tr th:only-of-type {\n",
       "        vertical-align: middle;\n",
       "    }\n",
       "\n",
       "    .dataframe tbody tr th {\n",
       "        vertical-align: top;\n",
       "    }\n",
       "\n",
       "    .dataframe thead th {\n",
       "        text-align: right;\n",
       "    }\n",
       "</style>\n",
       "<table border=\"1\" class=\"dataframe\">\n",
       "  <thead>\n",
       "    <tr style=\"text-align: right;\">\n",
       "      <th></th>\n",
       "      <th>man</th>\n",
       "      <th>woman</th>\n",
       "    </tr>\n",
       "  </thead>\n",
       "  <tbody>\n",
       "    <tr>\n",
       "      <th>0</th>\n",
       "      <td>1</td>\n",
       "      <td>0</td>\n",
       "    </tr>\n",
       "    <tr>\n",
       "      <th>1</th>\n",
       "      <td>1</td>\n",
       "      <td>0</td>\n",
       "    </tr>\n",
       "    <tr>\n",
       "      <th>2</th>\n",
       "      <td>0</td>\n",
       "      <td>1</td>\n",
       "    </tr>\n",
       "    <tr>\n",
       "      <th>3</th>\n",
       "      <td>1</td>\n",
       "      <td>0</td>\n",
       "    </tr>\n",
       "    <tr>\n",
       "      <th>4</th>\n",
       "      <td>1</td>\n",
       "      <td>0</td>\n",
       "    </tr>\n",
       "  </tbody>\n",
       "</table>\n",
       "</div>"
      ],
      "text/plain": [
       "   man  woman\n",
       "0    1      0\n",
       "1    1      0\n",
       "2    0      1\n",
       "3    1      0\n",
       "4    1      0"
      ]
     },
     "execution_count": 5,
     "metadata": {},
     "output_type": "execute_result"
    }
   ],
   "source": [
    "dummy_vars.head()"
   ]
  },
  {
   "cell_type": "markdown",
   "metadata": {},
   "source": [
    "## カテゴリ値の集約\n",
    "データ数が極端に少ないカテゴリ値は、他のカテゴリ値とまとめることがある。  \n",
    "顧客テーブルの年齢を10才区切りでカテゴリ型に変換し、さらに60才以上の場合は\"60才以上\"というカテゴリ値に変換する。"
   ]
  },
  {
   "cell_type": "markdown",
   "metadata": {},
   "source": [
    "category型のマスタデータの更新には、`add_categories`関数と`remove_unused_categories`関数を利用する。"
   ]
  },
  {
   "cell_type": "code",
   "execution_count": 6,
   "metadata": {},
   "outputs": [],
   "source": [
    "# pd.Categoricalでcategory型に変換\n",
    "customer_tb[\"age_rank\"] = \\\n",
    "    pd.Categorical(np.floor(customer_tb[\"age\"] / 10) * 10)\n",
    "\n",
    "# マスタデータに\"60以上\"を追加\n",
    "customer_tb[\"age_rank\"] = customer_tb[\"age_rank\"].cat.add_categories([\"60以上\"])\n",
    "\n",
    "# 集約するデータを書き換え\n",
    "# category型は、=または!=判定のみ可能なので、isis関数を利用\n",
    "customer_tb.loc[customer_tb[\"age_rank\"].isin(\n",
    "    [60.0, 70.0, 80.0]), \"age_rank\"] = \"60以上\"\n",
    "# 利用されていないマスタデータを削除\n",
    "customer_tb[\"age_rank\"] = customer_tb[\"age_rank\"].cat.remove_unused_categories()\n"
   ]
  },
  {
   "cell_type": "code",
   "execution_count": 7,
   "metadata": {},
   "outputs": [],
   "source": [
    "# 1回で書く方法\n",
    "customer_tb[\"age_rank_better\"] = \\\n",
    "    pd.Series(np.floor(customer_tb[\"age\"] / 10) * 10) \\\n",
    "    .apply(lambda x: \"60以上\" if x in [60.0, 70.0, 80.0] else x) \\\n",
    "    .astype(\"category\")\n"
   ]
  },
  {
   "cell_type": "code",
   "execution_count": 8,
   "metadata": {},
   "outputs": [
    {
     "data": {
      "text/html": [
       "<div>\n",
       "<style scoped>\n",
       "    .dataframe tbody tr th:only-of-type {\n",
       "        vertical-align: middle;\n",
       "    }\n",
       "\n",
       "    .dataframe tbody tr th {\n",
       "        vertical-align: top;\n",
       "    }\n",
       "\n",
       "    .dataframe thead th {\n",
       "        text-align: right;\n",
       "    }\n",
       "</style>\n",
       "<table border=\"1\" class=\"dataframe\">\n",
       "  <thead>\n",
       "    <tr style=\"text-align: right;\">\n",
       "      <th></th>\n",
       "      <th>customer_id</th>\n",
       "      <th>age</th>\n",
       "      <th>sex</th>\n",
       "      <th>home_latitude</th>\n",
       "      <th>home_longitude</th>\n",
       "      <th>sex_is_man</th>\n",
       "      <th>sex_c</th>\n",
       "      <th>age_rank</th>\n",
       "      <th>age_rank_better</th>\n",
       "    </tr>\n",
       "  </thead>\n",
       "  <tbody>\n",
       "    <tr>\n",
       "      <th>0</th>\n",
       "      <td>c_1</td>\n",
       "      <td>41</td>\n",
       "      <td>man</td>\n",
       "      <td>35.092193</td>\n",
       "      <td>136.512347</td>\n",
       "      <td>True</td>\n",
       "      <td>man</td>\n",
       "      <td>40.0</td>\n",
       "      <td>40.0</td>\n",
       "    </tr>\n",
       "    <tr>\n",
       "      <th>1</th>\n",
       "      <td>c_2</td>\n",
       "      <td>38</td>\n",
       "      <td>man</td>\n",
       "      <td>35.325076</td>\n",
       "      <td>139.410551</td>\n",
       "      <td>True</td>\n",
       "      <td>man</td>\n",
       "      <td>30.0</td>\n",
       "      <td>30.0</td>\n",
       "    </tr>\n",
       "    <tr>\n",
       "      <th>2</th>\n",
       "      <td>c_3</td>\n",
       "      <td>49</td>\n",
       "      <td>woman</td>\n",
       "      <td>35.120543</td>\n",
       "      <td>136.511179</td>\n",
       "      <td>False</td>\n",
       "      <td>woman</td>\n",
       "      <td>40.0</td>\n",
       "      <td>40.0</td>\n",
       "    </tr>\n",
       "    <tr>\n",
       "      <th>3</th>\n",
       "      <td>c_4</td>\n",
       "      <td>43</td>\n",
       "      <td>man</td>\n",
       "      <td>43.034868</td>\n",
       "      <td>141.240314</td>\n",
       "      <td>True</td>\n",
       "      <td>man</td>\n",
       "      <td>40.0</td>\n",
       "      <td>40.0</td>\n",
       "    </tr>\n",
       "    <tr>\n",
       "      <th>4</th>\n",
       "      <td>c_5</td>\n",
       "      <td>31</td>\n",
       "      <td>man</td>\n",
       "      <td>35.102661</td>\n",
       "      <td>136.523797</td>\n",
       "      <td>True</td>\n",
       "      <td>man</td>\n",
       "      <td>30.0</td>\n",
       "      <td>30.0</td>\n",
       "    </tr>\n",
       "  </tbody>\n",
       "</table>\n",
       "</div>"
      ],
      "text/plain": [
       "  customer_id  age    sex  home_latitude  home_longitude  sex_is_man  sex_c  \\\n",
       "0         c_1   41    man      35.092193      136.512347        True    man   \n",
       "1         c_2   38    man      35.325076      139.410551        True    man   \n",
       "2         c_3   49  woman      35.120543      136.511179       False  woman   \n",
       "3         c_4   43    man      43.034868      141.240314        True    man   \n",
       "4         c_5   31    man      35.102661      136.523797        True    man   \n",
       "\n",
       "  age_rank age_rank_better  \n",
       "0     40.0            40.0  \n",
       "1     30.0            30.0  \n",
       "2     40.0            40.0  \n",
       "3     40.0            40.0  \n",
       "4     30.0            30.0  "
      ]
     },
     "execution_count": 8,
     "metadata": {},
     "output_type": "execute_result"
    }
   ],
   "source": [
    "customer_tb.head()"
   ]
  },
  {
   "cell_type": "markdown",
   "metadata": {},
   "source": [
    "## カテゴリ値の組み合わせ\n",
    "顧客テーブルの性別と年齢の10才区切りのカテゴリ値を組み合わせて、性別/年代のカテゴリ値を生成する。"
   ]
  },
  {
   "cell_type": "code",
   "execution_count": 9,
   "metadata": {},
   "outputs": [],
   "source": [
    "customer_tb['sex_and_age'] = pd.Categorical(\n",
    "    # 連結する列を抽出\n",
    "    customer_tb[['sex', 'age']]\n",
    "\n",
    "    # lambda関数内でsexと10代区切りのageを_を挟んで文字列として連結\n",
    "    .apply(lambda x: '{}_{}'.format(x[0], np.floor(x[1] / 10) * 10),\n",
    "           axis=1)\n",
    ")\n"
   ]
  },
  {
   "cell_type": "code",
   "execution_count": 10,
   "metadata": {},
   "outputs": [
    {
     "data": {
      "text/html": [
       "<div>\n",
       "<style scoped>\n",
       "    .dataframe tbody tr th:only-of-type {\n",
       "        vertical-align: middle;\n",
       "    }\n",
       "\n",
       "    .dataframe tbody tr th {\n",
       "        vertical-align: top;\n",
       "    }\n",
       "\n",
       "    .dataframe thead th {\n",
       "        text-align: right;\n",
       "    }\n",
       "</style>\n",
       "<table border=\"1\" class=\"dataframe\">\n",
       "  <thead>\n",
       "    <tr style=\"text-align: right;\">\n",
       "      <th></th>\n",
       "      <th>customer_id</th>\n",
       "      <th>age</th>\n",
       "      <th>sex</th>\n",
       "      <th>home_latitude</th>\n",
       "      <th>home_longitude</th>\n",
       "      <th>sex_is_man</th>\n",
       "      <th>sex_c</th>\n",
       "      <th>age_rank</th>\n",
       "      <th>age_rank_better</th>\n",
       "      <th>sex_and_age</th>\n",
       "    </tr>\n",
       "  </thead>\n",
       "  <tbody>\n",
       "    <tr>\n",
       "      <th>0</th>\n",
       "      <td>c_1</td>\n",
       "      <td>41</td>\n",
       "      <td>man</td>\n",
       "      <td>35.092193</td>\n",
       "      <td>136.512347</td>\n",
       "      <td>True</td>\n",
       "      <td>man</td>\n",
       "      <td>40.0</td>\n",
       "      <td>40.0</td>\n",
       "      <td>man_40.0</td>\n",
       "    </tr>\n",
       "    <tr>\n",
       "      <th>1</th>\n",
       "      <td>c_2</td>\n",
       "      <td>38</td>\n",
       "      <td>man</td>\n",
       "      <td>35.325076</td>\n",
       "      <td>139.410551</td>\n",
       "      <td>True</td>\n",
       "      <td>man</td>\n",
       "      <td>30.0</td>\n",
       "      <td>30.0</td>\n",
       "      <td>man_30.0</td>\n",
       "    </tr>\n",
       "    <tr>\n",
       "      <th>2</th>\n",
       "      <td>c_3</td>\n",
       "      <td>49</td>\n",
       "      <td>woman</td>\n",
       "      <td>35.120543</td>\n",
       "      <td>136.511179</td>\n",
       "      <td>False</td>\n",
       "      <td>woman</td>\n",
       "      <td>40.0</td>\n",
       "      <td>40.0</td>\n",
       "      <td>woman_40.0</td>\n",
       "    </tr>\n",
       "    <tr>\n",
       "      <th>3</th>\n",
       "      <td>c_4</td>\n",
       "      <td>43</td>\n",
       "      <td>man</td>\n",
       "      <td>43.034868</td>\n",
       "      <td>141.240314</td>\n",
       "      <td>True</td>\n",
       "      <td>man</td>\n",
       "      <td>40.0</td>\n",
       "      <td>40.0</td>\n",
       "      <td>man_40.0</td>\n",
       "    </tr>\n",
       "    <tr>\n",
       "      <th>4</th>\n",
       "      <td>c_5</td>\n",
       "      <td>31</td>\n",
       "      <td>man</td>\n",
       "      <td>35.102661</td>\n",
       "      <td>136.523797</td>\n",
       "      <td>True</td>\n",
       "      <td>man</td>\n",
       "      <td>30.0</td>\n",
       "      <td>30.0</td>\n",
       "      <td>man_30.0</td>\n",
       "    </tr>\n",
       "  </tbody>\n",
       "</table>\n",
       "</div>"
      ],
      "text/plain": [
       "  customer_id  age    sex  home_latitude  home_longitude  sex_is_man  sex_c  \\\n",
       "0         c_1   41    man      35.092193      136.512347        True    man   \n",
       "1         c_2   38    man      35.325076      139.410551        True    man   \n",
       "2         c_3   49  woman      35.120543      136.511179       False  woman   \n",
       "3         c_4   43    man      43.034868      141.240314        True    man   \n",
       "4         c_5   31    man      35.102661      136.523797        True    man   \n",
       "\n",
       "  age_rank age_rank_better sex_and_age  \n",
       "0     40.0            40.0    man_40.0  \n",
       "1     30.0            30.0    man_30.0  \n",
       "2     40.0            40.0  woman_40.0  \n",
       "3     40.0            40.0    man_40.0  \n",
       "4     30.0            30.0    man_30.0  "
      ]
     },
     "execution_count": 10,
     "metadata": {},
     "output_type": "execute_result"
    }
   ],
   "source": [
    "customer_tb.head()"
   ]
  },
  {
   "cell_type": "markdown",
   "metadata": {},
   "source": [
    "## カテゴリ型の数値化\n",
    "カテゴリ型の集約方法の一つとして数値化する方法がある。学習データが少ない場合において、カテゴリ値を考慮して予測モデルを作りたいときに利用することが多い。ただし、データの本来の意味を失ったり過学習を引き起こすことがあるので注意が必要。\n",
    "\n",
    "例）\n",
    "- 製造物の品種ごとにレコード内の出現回数をカウントし、カテゴリ値の代わりに利用\n",
    "- 製造物の品種ごとに製造障害率（障害が発生した割合）を計算し、カテゴリ値の代わりに利用\n",
    "- カテゴリ値ごとの製造障害率を基準に、カテゴリ値ごとの障害発生率の高い順に順位を計算し、カテゴリ値の代わりに使用"
   ]
  },
  {
   "cell_type": "markdown",
   "metadata": {},
   "source": [
    "以下では製品種別(type)を製品種別ごとの平均障害率に変換する。ただし、平均障害率の計算は自身のレコードを除いて計算する。"
   ]
  },
  {
   "cell_type": "code",
   "execution_count": 11,
   "metadata": {},
   "outputs": [],
   "source": [
    "# 製品種別ごとの障害数\n",
    "fault_cnt_per_type = production \\\n",
    "    .query('fault_flg') \\\n",
    "    .groupby('type')['fault_flg'] \\\n",
    "    .count()\n",
    "\n",
    "# 製品種別ごとの製造数\n",
    "type_cnt = production.groupby('type')['fault_flg'].count()\n",
    "\n",
    "production['type_fault_rate'] = production[['type', 'fault_flg']] \\\n",
    "    .apply(lambda x:\n",
    "           (fault_cnt_per_type[x[0]] - int(x[1])) / (type_cnt[x[0]] - 1),\n",
    "           axis=1)\n"
   ]
  },
  {
   "cell_type": "code",
   "execution_count": 12,
   "metadata": {},
   "outputs": [
    {
     "data": {
      "text/plain": [
       "type\n",
       "A    11\n",
       "B     6\n",
       "C    16\n",
       "D     7\n",
       "E    12\n",
       "Name: fault_flg, dtype: int64"
      ]
     },
     "execution_count": 12,
     "metadata": {},
     "output_type": "execute_result"
    }
   ],
   "source": [
    "fault_cnt_per_type"
   ]
  },
  {
   "cell_type": "code",
   "execution_count": 13,
   "metadata": {},
   "outputs": [
    {
     "data": {
      "text/plain": [
       "type\n",
       "A    202\n",
       "B    175\n",
       "C    211\n",
       "D    215\n",
       "E    197\n",
       "Name: fault_flg, dtype: int64"
      ]
     },
     "execution_count": 13,
     "metadata": {},
     "output_type": "execute_result"
    }
   ],
   "source": [
    "type_cnt"
   ]
  },
  {
   "cell_type": "code",
   "execution_count": 14,
   "metadata": {},
   "outputs": [
    {
     "data": {
      "text/html": [
       "<div>\n",
       "<style scoped>\n",
       "    .dataframe tbody tr th:only-of-type {\n",
       "        vertical-align: middle;\n",
       "    }\n",
       "\n",
       "    .dataframe tbody tr th {\n",
       "        vertical-align: top;\n",
       "    }\n",
       "\n",
       "    .dataframe thead th {\n",
       "        text-align: right;\n",
       "    }\n",
       "</style>\n",
       "<table border=\"1\" class=\"dataframe\">\n",
       "  <thead>\n",
       "    <tr style=\"text-align: right;\">\n",
       "      <th></th>\n",
       "      <th>type</th>\n",
       "      <th>length</th>\n",
       "      <th>thickness</th>\n",
       "      <th>fault_flg</th>\n",
       "      <th>type_fault_rate</th>\n",
       "    </tr>\n",
       "  </thead>\n",
       "  <tbody>\n",
       "    <tr>\n",
       "      <th>0</th>\n",
       "      <td>E</td>\n",
       "      <td>274.027383</td>\n",
       "      <td>40.241131</td>\n",
       "      <td>False</td>\n",
       "      <td>0.061224</td>\n",
       "    </tr>\n",
       "    <tr>\n",
       "      <th>1</th>\n",
       "      <td>D</td>\n",
       "      <td>86.319269</td>\n",
       "      <td>16.906715</td>\n",
       "      <td>False</td>\n",
       "      <td>0.032710</td>\n",
       "    </tr>\n",
       "    <tr>\n",
       "      <th>2</th>\n",
       "      <td>E</td>\n",
       "      <td>123.940388</td>\n",
       "      <td>1.018462</td>\n",
       "      <td>False</td>\n",
       "      <td>0.061224</td>\n",
       "    </tr>\n",
       "    <tr>\n",
       "      <th>3</th>\n",
       "      <td>B</td>\n",
       "      <td>175.554886</td>\n",
       "      <td>16.414924</td>\n",
       "      <td>False</td>\n",
       "      <td>0.034483</td>\n",
       "    </tr>\n",
       "    <tr>\n",
       "      <th>4</th>\n",
       "      <td>B</td>\n",
       "      <td>244.934740</td>\n",
       "      <td>29.061081</td>\n",
       "      <td>False</td>\n",
       "      <td>0.034483</td>\n",
       "    </tr>\n",
       "  </tbody>\n",
       "</table>\n",
       "</div>"
      ],
      "text/plain": [
       "  type      length  thickness  fault_flg  type_fault_rate\n",
       "0    E  274.027383  40.241131      False         0.061224\n",
       "1    D   86.319269  16.906715      False         0.032710\n",
       "2    E  123.940388   1.018462      False         0.061224\n",
       "3    B  175.554886  16.414924      False         0.034483\n",
       "4    B  244.934740  29.061081      False         0.034483"
      ]
     },
     "execution_count": 14,
     "metadata": {},
     "output_type": "execute_result"
    }
   ],
   "source": [
    "production.head()"
   ]
  },
  {
   "cell_type": "markdown",
   "metadata": {},
   "source": [
    "## カテゴリ型の補完\n",
    "1. 固定値によって補完\n",
    "2. 集計値によって補完\n",
    "3. 欠損していないデータに基づく予測値によって補完\n",
    "4. 時系列の関係から補完\n",
    "5. 多重代入法\n",
    "6. 最尤法"
   ]
  },
  {
   "cell_type": "markdown",
   "metadata": {},
   "source": [
    "fault_flgに欠損が存在する製造レコードを対象とする。fault_flgが欠損していないデータを用いた予測結果から、欠損しているfault_flgを補完する。予測にはKNNを用いる。"
   ]
  },
  {
   "cell_type": "code",
   "execution_count": 15,
   "metadata": {},
   "outputs": [],
   "source": [
    "from sklearn.neighbors import KNeighborsClassifier\n",
    "\n",
    "# replace関数によって、Noneをnanに変換\n",
    "production_missc_tb.replace('None', np.nan, inplace=True)\n",
    "\n",
    "# 欠損していないデータの抽出\n",
    "train = production_missc_tb.dropna(subset=['type'])\n",
    "\n",
    "# 欠損しているデータの抽出\n",
    "test = production_missc_tb \\\n",
    "    .loc[production_missc_tb.index.difference(train.index), :]\n",
    "\n",
    "# knnモデル生成、n_neighborsはknnのkパラメータ\n",
    "kn = KNeighborsClassifier(n_neighbors=3)\n",
    "\n",
    "# knnモデル学習\n",
    "kn.fit(train[['length', 'thickness']], train['type'])\n",
    "\n",
    "# knnモデルによって予測値を計算し、typeを補完\n",
    "test['type'] = kn.predict(test[['length', 'thickness']])\n"
   ]
  },
  {
   "cell_type": "code",
   "execution_count": 16,
   "metadata": {},
   "outputs": [
    {
     "data": {
      "text/plain": [
       "False    948\n",
       "True      52\n",
       "Name: fault_flg, dtype: int64"
      ]
     },
     "execution_count": 16,
     "metadata": {},
     "output_type": "execute_result"
    }
   ],
   "source": [
    "production_missc_tb[\"fault_flg\"].value_counts()"
   ]
  },
  {
   "cell_type": "code",
   "execution_count": null,
   "metadata": {},
   "outputs": [],
   "source": []
  }
 ],
 "metadata": {
  "kernelspec": {
   "display_name": "Python 3.8.13 ('myenv')",
   "language": "python",
   "name": "python3"
  },
  "language_info": {
   "codemirror_mode": {
    "name": "ipython",
    "version": 3
   },
   "file_extension": ".py",
   "mimetype": "text/x-python",
   "name": "python",
   "nbconvert_exporter": "python",
   "pygments_lexer": "ipython3",
   "version": "3.8.13"
  },
  "orig_nbformat": 4,
  "vscode": {
   "interpreter": {
    "hash": "d90a39672d555971ab95a5a373ccc6b42d2b1580cc6dac5514e2241c079d03cb"
   }
  }
 },
 "nbformat": 4,
 "nbformat_minor": 2
}
