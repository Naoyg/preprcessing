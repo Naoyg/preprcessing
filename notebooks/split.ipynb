{
 "cells": [
  {
   "cell_type": "markdown",
   "metadata": {},
   "source": [
    "# 分割\n",
    "SQLでは便利なパッケージがないので、分割はRかPythonでやる。"
   ]
  },
  {
   "cell_type": "code",
   "execution_count": 1,
   "metadata": {},
   "outputs": [],
   "source": [
    "import sys\n",
    "sys.path.append(\"../src\")\n",
    "from data_loader import load_production, load_monthly_index\n",
    "\n",
    "production_tb = load_production()\n",
    "monthly_index_tb = load_monthly_index()"
   ]
  },
  {
   "cell_type": "markdown",
   "metadata": {},
   "source": [
    "## レコードデータにおけるモデル検証用のデータ分割\n",
    "製造レコードのデータを用いて、予測モデル構築のためのデータ分割を行う。"
   ]
  },
  {
   "cell_type": "code",
   "execution_count": 2,
   "metadata": {},
   "outputs": [],
   "source": [
    "from sklearn.model_selection import train_test_split\n",
    "from sklearn.model_selection import KFold"
   ]
  },
  {
   "cell_type": "code",
   "execution_count": 3,
   "metadata": {},
   "outputs": [],
   "source": [
    "# ホールドアウト検証用のデータ分割\n",
    "# 予測モデルの入力値と予測対象の値を別々にtrain_test_split関数に設定\n",
    "# test_sizeは検証データの割合\n",
    "train_data, test_data, train_target, test_target = \\\n",
    "    train_test_split(production_tb.drop('fault_flg', axis=1),\n",
    "                     production_tb[['fault_flg']],\n",
    "                     test_size=0.2)\n",
    "\n",
    "# train_test_splitによって、行名を現在の行番号に直す\n",
    "train_data.reset_index(inplace=True, drop=True)\n",
    "test_data.reset_index(inplace=True, drop=True)\n",
    "train_target.reset_index(inplace=True, drop=True)\n",
    "test_target.reset_index(inplace=True, drop=True)\n",
    "\n",
    "# 対象の行番号リストを生成\n",
    "row_no_list = list(range(len(train_target)))\n",
    "\n",
    "# 交差検証用のデータ分割\n",
    "k_fold = KFold(n_splits=4, shuffle=True)\n",
    "\n",
    "# 交差数分繰り返し処理、並列処理も可能な部分\n",
    "for train_cv_no, test_cv_no in k_fold.split(row_no_list):\n",
    "\n",
    "    # 交差検証における学習データを抽出\n",
    "    train_cv = train_data.iloc[train_cv_no, :]\n",
    "\n",
    "    # 交差検証における検証データを抽出\n",
    "    test_cv = train_data.iloc[test_cv_no, :]\n"
   ]
  },
  {
   "cell_type": "code",
   "execution_count": 4,
   "metadata": {},
   "outputs": [
    {
     "data": {
      "text/html": [
       "<div>\n",
       "<style scoped>\n",
       "    .dataframe tbody tr th:only-of-type {\n",
       "        vertical-align: middle;\n",
       "    }\n",
       "\n",
       "    .dataframe tbody tr th {\n",
       "        vertical-align: top;\n",
       "    }\n",
       "\n",
       "    .dataframe thead th {\n",
       "        text-align: right;\n",
       "    }\n",
       "</style>\n",
       "<table border=\"1\" class=\"dataframe\">\n",
       "  <thead>\n",
       "    <tr style=\"text-align: right;\">\n",
       "      <th></th>\n",
       "      <th>type</th>\n",
       "      <th>length</th>\n",
       "      <th>thickness</th>\n",
       "    </tr>\n",
       "  </thead>\n",
       "  <tbody>\n",
       "    <tr>\n",
       "      <th>0</th>\n",
       "      <td>C</td>\n",
       "      <td>321.437280</td>\n",
       "      <td>22.168721</td>\n",
       "    </tr>\n",
       "    <tr>\n",
       "      <th>1</th>\n",
       "      <td>C</td>\n",
       "      <td>278.695027</td>\n",
       "      <td>38.982026</td>\n",
       "    </tr>\n",
       "    <tr>\n",
       "      <th>2</th>\n",
       "      <td>D</td>\n",
       "      <td>126.517115</td>\n",
       "      <td>3.932203</td>\n",
       "    </tr>\n",
       "    <tr>\n",
       "      <th>5</th>\n",
       "      <td>B</td>\n",
       "      <td>256.560480</td>\n",
       "      <td>24.036465</td>\n",
       "    </tr>\n",
       "    <tr>\n",
       "      <th>6</th>\n",
       "      <td>C</td>\n",
       "      <td>439.305770</td>\n",
       "      <td>38.753562</td>\n",
       "    </tr>\n",
       "    <tr>\n",
       "      <th>...</th>\n",
       "      <td>...</td>\n",
       "      <td>...</td>\n",
       "      <td>...</td>\n",
       "    </tr>\n",
       "    <tr>\n",
       "      <th>794</th>\n",
       "      <td>C</td>\n",
       "      <td>224.952437</td>\n",
       "      <td>44.516058</td>\n",
       "    </tr>\n",
       "    <tr>\n",
       "      <th>795</th>\n",
       "      <td>A</td>\n",
       "      <td>178.750063</td>\n",
       "      <td>35.397299</td>\n",
       "    </tr>\n",
       "    <tr>\n",
       "      <th>796</th>\n",
       "      <td>D</td>\n",
       "      <td>196.474358</td>\n",
       "      <td>3.077979</td>\n",
       "    </tr>\n",
       "    <tr>\n",
       "      <th>797</th>\n",
       "      <td>C</td>\n",
       "      <td>439.075539</td>\n",
       "      <td>48.683697</td>\n",
       "    </tr>\n",
       "    <tr>\n",
       "      <th>799</th>\n",
       "      <td>A</td>\n",
       "      <td>199.327041</td>\n",
       "      <td>9.612863</td>\n",
       "    </tr>\n",
       "  </tbody>\n",
       "</table>\n",
       "<p>600 rows × 3 columns</p>\n",
       "</div>"
      ],
      "text/plain": [
       "    type      length  thickness\n",
       "0      C  321.437280  22.168721\n",
       "1      C  278.695027  38.982026\n",
       "2      D  126.517115   3.932203\n",
       "5      B  256.560480  24.036465\n",
       "6      C  439.305770  38.753562\n",
       "..   ...         ...        ...\n",
       "794    C  224.952437  44.516058\n",
       "795    A  178.750063  35.397299\n",
       "796    D  196.474358   3.077979\n",
       "797    C  439.075539  48.683697\n",
       "799    A  199.327041   9.612863\n",
       "\n",
       "[600 rows x 3 columns]"
      ]
     },
     "execution_count": 4,
     "metadata": {},
     "output_type": "execute_result"
    }
   ],
   "source": [
    "train_cv"
   ]
  },
  {
   "cell_type": "markdown",
   "metadata": {},
   "source": [
    "## 時系列データにおけるモデル検証用のデータ分割\n",
    "時系列データにおいて単純な交差検証は有効でない。</br>\n",
    "方法の一つとして、学習データと検証データを時間軸に対してスライドしながら検証する方法がある。</br>\n",
    "データ期間が足りない場合は、学習データをスライドせずに増やしていく検証もある。"
   ]
  },
  {
   "cell_type": "markdown",
   "metadata": {},
   "source": [
    "月ごとの経営指標を対象とする。月ごとのレコードデータを対象に、学習データと検証データを時間軸にして1ヶ月ごとスライドしながら生成する。学習期間は24ヶ月、検証期間は12ヶ月、スライドする期間は12ヶ月とする。"
   ]
  },
  {
   "cell_type": "code",
   "execution_count": 5,
   "metadata": {},
   "outputs": [],
   "source": [
    "# train_window_startに、最初の学習データの開始行番号を指定\n",
    "train_window_start = 0\n",
    "# train_window_endに、最初の学習データの終了行番号を指定\n",
    "train_window_end = 24\n",
    "# horizonに、検証データのデータ数を指定\n",
    "horizon = 12\n",
    "# skipにスライドするデータ数を設定\n",
    "skip = 12\n",
    "\n",
    "# 年月に基づいてデータを並び替え\n",
    "monthly_index_tb.sort_values(by='year_month')\n",
    "\n",
    "while True:\n",
    "    # 検証データの終了行番号を計算\n",
    "    test_window_end = train_window_end + horizon\n",
    "\n",
    "    # 行番号を指定して、元データから学習データを取得\n",
    "    # train_window_startの部分を1に固定すれば、学習データを増やしていく検証に変更可能\n",
    "    train = monthly_index_tb[train_window_start:train_window_end]\n",
    "\n",
    "    # 行番号を指定して、元データから検証データを取得\n",
    "    test = monthly_index_tb[train_window_end:test_window_end]\n",
    "\n",
    "    # 検証データの終了行番号が元データの行数以上になっているか判定\n",
    "    if test_window_end >= len(monthly_index_tb.index):\n",
    "        # 全データを対象にした場合終了\n",
    "        break\n",
    "\n",
    "    # データをスライドさせる\n",
    "    train_window_start += skip\n",
    "    train_window_end += skip\n",
    "\n",
    "# 交差検定の結果をまとめる\n"
   ]
  },
  {
   "cell_type": "code",
   "execution_count": null,
   "metadata": {},
   "outputs": [],
   "source": []
  }
 ],
 "metadata": {
  "kernelspec": {
   "display_name": "Python 3.8.13 ('myenv')",
   "language": "python",
   "name": "python3"
  },
  "language_info": {
   "codemirror_mode": {
    "name": "ipython",
    "version": 3
   },
   "file_extension": ".py",
   "mimetype": "text/x-python",
   "name": "python",
   "nbconvert_exporter": "python",
   "pygments_lexer": "ipython3",
   "version": "3.8.13"
  },
  "orig_nbformat": 4,
  "vscode": {
   "interpreter": {
    "hash": "d90a39672d555971ab95a5a373ccc6b42d2b1580cc6dac5514e2241c079d03cb"
   }
  }
 },
 "nbformat": 4,
 "nbformat_minor": 2
}
