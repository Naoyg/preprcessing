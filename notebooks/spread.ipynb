{
 "cells": [
  {
   "cell_type": "markdown",
   "metadata": {},
   "source": [
    "# 展開\n",
    "データの集計結果を表形式に変換する**展開**"
   ]
  },
  {
   "cell_type": "code",
   "execution_count": 1,
   "metadata": {},
   "outputs": [],
   "source": [
    "import sys\n",
    "import pandas as pd\n",
    "sys.path.append(\"../src\")\n",
    "from data_loader import load_hotel_reserve\n"
   ]
  },
  {
   "cell_type": "code",
   "execution_count": 2,
   "metadata": {},
   "outputs": [],
   "source": [
    "customer_tb, hotel_tb, reserve_tb = load_hotel_reserve()"
   ]
  },
  {
   "cell_type": "markdown",
   "metadata": {},
   "source": [
    "## 横持ちへの変換\n",
    "データがレコード形式になっている場合を**縦持ち**、データが表形式の状態の場合を**横持ち**という。"
   ]
  },
  {
   "cell_type": "markdown",
   "metadata": {},
   "source": [
    "予約テーブルから、顧客/宿泊人数ごとに予約数をカウントし、行を顧客ID、列を宿泊人数、値を予約数の行列に変換する。  \n",
    "pythonでは横持ち用の関数として利用できる`pivot_table`関数が提供されている。`pivot_table`関数は横持ちに変換するだけでなく、同時に集約処理を行うことができる。"
   ]
  },
  {
   "cell_type": "code",
   "execution_count": 3,
   "metadata": {},
   "outputs": [
    {
     "data": {
      "text/html": [
       "<div>\n",
       "<style scoped>\n",
       "    .dataframe tbody tr th:only-of-type {\n",
       "        vertical-align: middle;\n",
       "    }\n",
       "\n",
       "    .dataframe tbody tr th {\n",
       "        vertical-align: top;\n",
       "    }\n",
       "\n",
       "    .dataframe thead th {\n",
       "        text-align: right;\n",
       "    }\n",
       "</style>\n",
       "<table border=\"1\" class=\"dataframe\">\n",
       "  <thead>\n",
       "    <tr style=\"text-align: right;\">\n",
       "      <th>people_num</th>\n",
       "      <th>1</th>\n",
       "      <th>2</th>\n",
       "      <th>3</th>\n",
       "      <th>4</th>\n",
       "    </tr>\n",
       "    <tr>\n",
       "      <th>customer_id</th>\n",
       "      <th></th>\n",
       "      <th></th>\n",
       "      <th></th>\n",
       "      <th></th>\n",
       "    </tr>\n",
       "  </thead>\n",
       "  <tbody>\n",
       "    <tr>\n",
       "      <th>c_1</th>\n",
       "      <td>2</td>\n",
       "      <td>2</td>\n",
       "      <td>2</td>\n",
       "      <td>2</td>\n",
       "    </tr>\n",
       "    <tr>\n",
       "      <th>c_10</th>\n",
       "      <td>0</td>\n",
       "      <td>2</td>\n",
       "      <td>2</td>\n",
       "      <td>2</td>\n",
       "    </tr>\n",
       "    <tr>\n",
       "      <th>c_100</th>\n",
       "      <td>2</td>\n",
       "      <td>1</td>\n",
       "      <td>2</td>\n",
       "      <td>0</td>\n",
       "    </tr>\n",
       "    <tr>\n",
       "      <th>c_1000</th>\n",
       "      <td>1</td>\n",
       "      <td>0</td>\n",
       "      <td>0</td>\n",
       "      <td>1</td>\n",
       "    </tr>\n",
       "    <tr>\n",
       "      <th>c_101</th>\n",
       "      <td>2</td>\n",
       "      <td>1</td>\n",
       "      <td>1</td>\n",
       "      <td>1</td>\n",
       "    </tr>\n",
       "    <tr>\n",
       "      <th>...</th>\n",
       "      <td>...</td>\n",
       "      <td>...</td>\n",
       "      <td>...</td>\n",
       "      <td>...</td>\n",
       "    </tr>\n",
       "    <tr>\n",
       "      <th>c_994</th>\n",
       "      <td>1</td>\n",
       "      <td>0</td>\n",
       "      <td>0</td>\n",
       "      <td>0</td>\n",
       "    </tr>\n",
       "    <tr>\n",
       "      <th>c_995</th>\n",
       "      <td>2</td>\n",
       "      <td>2</td>\n",
       "      <td>1</td>\n",
       "      <td>3</td>\n",
       "    </tr>\n",
       "    <tr>\n",
       "      <th>c_996</th>\n",
       "      <td>0</td>\n",
       "      <td>4</td>\n",
       "      <td>3</td>\n",
       "      <td>0</td>\n",
       "    </tr>\n",
       "    <tr>\n",
       "      <th>c_997</th>\n",
       "      <td>0</td>\n",
       "      <td>1</td>\n",
       "      <td>1</td>\n",
       "      <td>0</td>\n",
       "    </tr>\n",
       "    <tr>\n",
       "      <th>c_999</th>\n",
       "      <td>1</td>\n",
       "      <td>3</td>\n",
       "      <td>1</td>\n",
       "      <td>1</td>\n",
       "    </tr>\n",
       "  </tbody>\n",
       "</table>\n",
       "<p>888 rows × 4 columns</p>\n",
       "</div>"
      ],
      "text/plain": [
       "people_num   1  2  3  4\n",
       "customer_id            \n",
       "c_1          2  2  2  2\n",
       "c_10         0  2  2  2\n",
       "c_100        2  1  2  0\n",
       "c_1000       1  0  0  1\n",
       "c_101        2  1  1  1\n",
       "...         .. .. .. ..\n",
       "c_994        1  0  0  0\n",
       "c_995        2  2  1  3\n",
       "c_996        0  4  3  0\n",
       "c_997        0  1  1  0\n",
       "c_999        1  3  1  1\n",
       "\n",
       "[888 rows x 4 columns]"
      ]
     },
     "execution_count": 3,
     "metadata": {},
     "output_type": "execute_result"
    }
   ],
   "source": [
    "# pivot_table関数で、横持ち変換と集約処理を同時実行\n",
    "# aggfuncに予約数をカウントする関数を指定\n",
    "pd.pivot_table(reserve_tb, index='customer_id', columns='people_num',\n",
    "               values='reserve_id',\n",
    "               aggfunc=lambda x: len(x), fill_value=0)"
   ]
  },
  {
   "cell_type": "markdown",
   "metadata": {},
   "source": [
    "## スパースマトリックスへの変換\n",
    "スパースマトリックス：ほとんどの要素の値が0で、ごくわずかしか値が存在しない巨大な行列  \n",
    "横持ちの場合おいてデータサイズが膨れ上がらないようにするには、縦持ちのデータ表現のまま表にする必要がある。"
   ]
  },
  {
   "cell_type": "markdown",
   "metadata": {},
   "source": [
    "「横持ちの変換」で作成した行列をスパースマトリックスとして作成する。"
   ]
  },
  {
   "cell_type": "code",
   "execution_count": 4,
   "metadata": {},
   "outputs": [
    {
     "data": {
      "text/plain": [
       "<888x4 sparse matrix of type '<class 'numpy.int64'>'\n",
       "\twith 2366 stored elements in Compressed Sparse Column format>"
      ]
     },
     "execution_count": 4,
     "metadata": {},
     "output_type": "execute_result"
    }
   ],
   "source": [
    "from scipy.sparse import csc_matrix\n",
    "\n",
    "# 顧客ID／宿泊人数別の予約数の表を生成\n",
    "cnt_tb = reserve_tb \\\n",
    "  .groupby(['customer_id', 'people_num'])['reserve_id'].size() \\\n",
    "  .reset_index()\n",
    "cnt_tb.columns = ['customer_id', 'people_num', 'rsv_cnt']\n",
    "\n",
    "# sparseMatrixの行／列に該当する列の値をカテゴリ型に変換\n",
    "# カテゴリ型については「第9章 カテゴリ型」で詳しく説明\n",
    "customer_id = pd.Categorical(cnt_tb['customer_id'])\n",
    "people_num = pd.Categorical(cnt_tb['people_num'])\n",
    "\n",
    "# スパースマトリックスを生成\n",
    "# 1の引数は、指定した行列に対応した値、行番号、列番号の配列をまとめたタプルを指定\n",
    "# shapeには、スパースマトリックスのサイズを指定（行数／列数のタプルを指定）\n",
    "# （customer_id.codesはインデックス番号の取得）\n",
    "# （len(customer_id.categories)は、customer_idのユニークな数を取得）\n",
    "csc_matrix((cnt_tb['rsv_cnt'], (customer_id.codes, people_num.codes)),\n",
    "           shape=(len(customer_id.categories), len(people_num.categories)))\n"
   ]
  },
  {
   "cell_type": "markdown",
   "metadata": {},
   "source": [
    "scipy.sparseではさまざまなデータ型のスパースマトリックスが提供されている。\n",
    "\n",
    "- `lil_matrix`：matrixの値を更新するのが速く、演算処理が遅い形式\n",
    "- `csr_matrix`：行のアクセスが速く、演算処理が速い形式\n",
    "- `csc_matrix`：列のアクセスが速く、演算処理が速い形式\n",
    "\n",
    "逐次データを更新していく場合`lil_matrix`を利用、演算処理をする場合には、`csv_matrix`か`csc_matrix`を利用する。`tolil`/`tocsr`/`tocsc`関数で各形式に変換できる。"
   ]
  }
 ],
 "metadata": {
  "kernelspec": {
   "display_name": "Python 3.8.13 ('myenv')",
   "language": "python",
   "name": "python3"
  },
  "language_info": {
   "codemirror_mode": {
    "name": "ipython",
    "version": 3
   },
   "file_extension": ".py",
   "mimetype": "text/x-python",
   "name": "python",
   "nbconvert_exporter": "python",
   "pygments_lexer": "ipython3",
   "version": "3.8.13"
  },
  "orig_nbformat": 4,
  "vscode": {
   "interpreter": {
    "hash": "d90a39672d555971ab95a5a373ccc6b42d2b1580cc6dac5514e2241c079d03cb"
   }
  }
 },
 "nbformat": 4,
 "nbformat_minor": 2
}
